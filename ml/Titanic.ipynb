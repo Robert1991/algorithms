{
  "cells": [
    {
      "metadata": {},
      "cell_type": "markdown",
      "source": "# Titanic Example: Survival Prognosis"
    },
    {
      "metadata": {},
      "cell_type": "markdown",
      "source": "This is a typical case of function prediction. We want to find a function which takes some input parameters (information about the passenger) also called **features** and its value will tell us, if its likely that the particular passenger survived the catastrophic sinking of the titanic:\n\nExample: $f(passenger_{age},passenger_{class}) = pred$ where $pred \\in \\{0,1\\}$ where $0 \\rightarrow Dead$ and $0 \\rightarrow Alive$:\n\nFor a passenger with an age of nine years travelling in the first class, a sample output of our function could be:\n\n$f(9, 1) = 1$\n\nThis is what we want our AI to say us!"
    },
    {
      "metadata": {},
      "cell_type": "markdown",
      "source": "## Data analysis and prepartion"
    },
    {
      "metadata": {},
      "cell_type": "markdown",
      "source": "Lets look at the data we want to learn this function from. This data is contained in a csv file, which we will read using python with the pandas package.\nFurther information on pandas: https://pandas.pydata.org/pandas-docs/stable/reference/api/pandas.DataFrame.html"
    },
    {
      "metadata": {
        "trusted": true
      },
      "cell_type": "code",
      "source": "import pandas as pd",
      "execution_count": 3,
      "outputs": []
    },
    {
      "metadata": {
        "trusted": true
      },
      "cell_type": "code",
      "source": "titanicData = pd.read_csv('titanic.csv', sep=';')",
      "execution_count": 4,
      "outputs": []
    },
    {
      "metadata": {},
      "cell_type": "markdown",
      "source": "Lets look at the information contained in that dataset:\n\nFirst we will just look at the first 15 passengers, to find out which attributes of the passenger we can use, to predict if he survived or not:"
    },
    {
      "metadata": {
        "trusted": true
      },
      "cell_type": "code",
      "source": "titanicData.head(15)",
      "execution_count": 5,
      "outputs": [
        {
          "output_type": "execute_result",
          "execution_count": 5,
          "data": {
            "text/html": "<div>\n<style scoped>\n    .dataframe tbody tr th:only-of-type {\n        vertical-align: middle;\n    }\n\n    .dataframe tbody tr th {\n        vertical-align: top;\n    }\n\n    .dataframe thead th {\n        text-align: right;\n    }\n</style>\n<table border=\"1\" class=\"dataframe\">\n  <thead>\n    <tr style=\"text-align: right;\">\n      <th></th>\n      <th>pclass</th>\n      <th>survived</th>\n      <th>name</th>\n      <th>sex</th>\n      <th>age</th>\n      <th>sibsp</th>\n      <th>parch</th>\n      <th>ticket</th>\n      <th>fare</th>\n      <th>cabin</th>\n      <th>embarked</th>\n    </tr>\n  </thead>\n  <tbody>\n    <tr>\n      <th>0</th>\n      <td>1.0</td>\n      <td>1.0</td>\n      <td>Allen, Miss. Elisabeth Walton</td>\n      <td>female</td>\n      <td>29</td>\n      <td>0.0</td>\n      <td>0.0</td>\n      <td>24160</td>\n      <td>211,3375</td>\n      <td>B5</td>\n      <td>S</td>\n    </tr>\n    <tr>\n      <th>1</th>\n      <td>1.0</td>\n      <td>1.0</td>\n      <td>Allison, Master. Hudson Trevor</td>\n      <td>male</td>\n      <td>0,9167</td>\n      <td>1.0</td>\n      <td>2.0</td>\n      <td>113781</td>\n      <td>151,5500</td>\n      <td>C22 C26</td>\n      <td>S</td>\n    </tr>\n    <tr>\n      <th>2</th>\n      <td>1.0</td>\n      <td>0.0</td>\n      <td>Allison, Miss. Helen Loraine</td>\n      <td>female</td>\n      <td>2</td>\n      <td>1.0</td>\n      <td>2.0</td>\n      <td>113781</td>\n      <td>151,5500</td>\n      <td>C22 C26</td>\n      <td>S</td>\n    </tr>\n    <tr>\n      <th>3</th>\n      <td>1.0</td>\n      <td>0.0</td>\n      <td>Allison, Mr. Hudson Joshua Creighton</td>\n      <td>male</td>\n      <td>30</td>\n      <td>1.0</td>\n      <td>2.0</td>\n      <td>113781</td>\n      <td>151,5500</td>\n      <td>C22 C26</td>\n      <td>S</td>\n    </tr>\n    <tr>\n      <th>4</th>\n      <td>1.0</td>\n      <td>0.0</td>\n      <td>Allison, Mrs. Hudson J C (Bessie Waldo Daniels)</td>\n      <td>female</td>\n      <td>25</td>\n      <td>1.0</td>\n      <td>2.0</td>\n      <td>113781</td>\n      <td>151,5500</td>\n      <td>C22 C26</td>\n      <td>S</td>\n    </tr>\n    <tr>\n      <th>5</th>\n      <td>1.0</td>\n      <td>1.0</td>\n      <td>Anderson, Mr. Harry</td>\n      <td>male</td>\n      <td>48</td>\n      <td>0.0</td>\n      <td>0.0</td>\n      <td>19952</td>\n      <td>26,5500</td>\n      <td>E12</td>\n      <td>S</td>\n    </tr>\n    <tr>\n      <th>6</th>\n      <td>1.0</td>\n      <td>1.0</td>\n      <td>Andrews, Miss. Kornelia Theodosia</td>\n      <td>female</td>\n      <td>63</td>\n      <td>1.0</td>\n      <td>0.0</td>\n      <td>13502</td>\n      <td>77,9583</td>\n      <td>D7</td>\n      <td>S</td>\n    </tr>\n    <tr>\n      <th>7</th>\n      <td>1.0</td>\n      <td>0.0</td>\n      <td>Andrews, Mr. Thomas Jr</td>\n      <td>male</td>\n      <td>39</td>\n      <td>0.0</td>\n      <td>0.0</td>\n      <td>112050</td>\n      <td>0,0000</td>\n      <td>A36</td>\n      <td>S</td>\n    </tr>\n    <tr>\n      <th>8</th>\n      <td>1.0</td>\n      <td>1.0</td>\n      <td>Appleton, Mrs. Edward Dale (Charlotte Lamson)</td>\n      <td>female</td>\n      <td>53</td>\n      <td>2.0</td>\n      <td>0.0</td>\n      <td>11769</td>\n      <td>51,4792</td>\n      <td>C101</td>\n      <td>S</td>\n    </tr>\n    <tr>\n      <th>9</th>\n      <td>1.0</td>\n      <td>0.0</td>\n      <td>Artagaveytia, Mr. Ramon</td>\n      <td>male</td>\n      <td>71</td>\n      <td>0.0</td>\n      <td>0.0</td>\n      <td>PC 17609</td>\n      <td>49,5042</td>\n      <td>NaN</td>\n      <td>C</td>\n    </tr>\n    <tr>\n      <th>10</th>\n      <td>1.0</td>\n      <td>0.0</td>\n      <td>Astor, Col. John Jacob</td>\n      <td>male</td>\n      <td>47</td>\n      <td>1.0</td>\n      <td>0.0</td>\n      <td>PC 17757</td>\n      <td>227,5250</td>\n      <td>C62 C64</td>\n      <td>C</td>\n    </tr>\n    <tr>\n      <th>11</th>\n      <td>1.0</td>\n      <td>1.0</td>\n      <td>Astor, Mrs. John Jacob (Madeleine Talmadge Force)</td>\n      <td>female</td>\n      <td>18</td>\n      <td>1.0</td>\n      <td>0.0</td>\n      <td>PC 17757</td>\n      <td>227,5250</td>\n      <td>C62 C64</td>\n      <td>C</td>\n    </tr>\n    <tr>\n      <th>12</th>\n      <td>1.0</td>\n      <td>1.0</td>\n      <td>Aubart, Mme. Leontine Pauline</td>\n      <td>female</td>\n      <td>24</td>\n      <td>0.0</td>\n      <td>0.0</td>\n      <td>PC 17477</td>\n      <td>69,3000</td>\n      <td>B35</td>\n      <td>C</td>\n    </tr>\n    <tr>\n      <th>13</th>\n      <td>1.0</td>\n      <td>1.0</td>\n      <td>Barber, Miss. Ellen \"Nellie\"</td>\n      <td>female</td>\n      <td>26</td>\n      <td>0.0</td>\n      <td>0.0</td>\n      <td>19877</td>\n      <td>78,8500</td>\n      <td>NaN</td>\n      <td>S</td>\n    </tr>\n    <tr>\n      <th>14</th>\n      <td>1.0</td>\n      <td>1.0</td>\n      <td>Barkworth, Mr. Algernon Henry Wilson</td>\n      <td>male</td>\n      <td>80</td>\n      <td>0.0</td>\n      <td>0.0</td>\n      <td>27042</td>\n      <td>30,0000</td>\n      <td>A23</td>\n      <td>S</td>\n    </tr>\n  </tbody>\n</table>\n</div>",
            "text/plain": "    pclass  survived                                               name  \\\n0      1.0       1.0                      Allen, Miss. Elisabeth Walton   \n1      1.0       1.0                     Allison, Master. Hudson Trevor   \n2      1.0       0.0                       Allison, Miss. Helen Loraine   \n3      1.0       0.0               Allison, Mr. Hudson Joshua Creighton   \n4      1.0       0.0    Allison, Mrs. Hudson J C (Bessie Waldo Daniels)   \n5      1.0       1.0                                Anderson, Mr. Harry   \n6      1.0       1.0                  Andrews, Miss. Kornelia Theodosia   \n7      1.0       0.0                             Andrews, Mr. Thomas Jr   \n8      1.0       1.0      Appleton, Mrs. Edward Dale (Charlotte Lamson)   \n9      1.0       0.0                            Artagaveytia, Mr. Ramon   \n10     1.0       0.0                             Astor, Col. John Jacob   \n11     1.0       1.0  Astor, Mrs. John Jacob (Madeleine Talmadge Force)   \n12     1.0       1.0                      Aubart, Mme. Leontine Pauline   \n13     1.0       1.0                       Barber, Miss. Ellen \"Nellie\"   \n14     1.0       1.0               Barkworth, Mr. Algernon Henry Wilson   \n\n       sex     age  sibsp  parch    ticket      fare    cabin embarked  \n0   female      29    0.0    0.0     24160  211,3375       B5        S  \n1     male  0,9167    1.0    2.0    113781  151,5500  C22 C26        S  \n2   female       2    1.0    2.0    113781  151,5500  C22 C26        S  \n3     male      30    1.0    2.0    113781  151,5500  C22 C26        S  \n4   female      25    1.0    2.0    113781  151,5500  C22 C26        S  \n5     male      48    0.0    0.0     19952   26,5500      E12        S  \n6   female      63    1.0    0.0     13502   77,9583       D7        S  \n7     male      39    0.0    0.0    112050    0,0000      A36        S  \n8   female      53    2.0    0.0     11769   51,4792     C101        S  \n9     male      71    0.0    0.0  PC 17609   49,5042      NaN        C  \n10    male      47    1.0    0.0  PC 17757  227,5250  C62 C64        C  \n11  female      18    1.0    0.0  PC 17757  227,5250  C62 C64        C  \n12  female      24    0.0    0.0  PC 17477   69,3000      B35        C  \n13  female      26    0.0    0.0     19877   78,8500      NaN        S  \n14    male      80    0.0    0.0     27042   30,0000      A23        S  "
          },
          "metadata": {}
        }
      ]
    },
    {
      "metadata": {},
      "cell_type": "markdown",
      "source": "The way in which the data is presented here is only understandable for humans. We now need to transform it, so that a machine can understand that. There are also some features which are not relevant on the survival of a specific passenger like his **name** or where he **embarked** from."
    },
    {
      "metadata": {},
      "cell_type": "markdown",
      "source": "### Cleaning up features. \n#### Starting with the feature `name`"
    },
    {
      "metadata": {},
      "cell_type": "markdown",
      "source": "From just looking at the dataframe, we can immediatley see that the name of the passenger does not contain an valuable information about his chance of survival the catastrophe. So lets drop this column from our dataframe:"
    },
    {
      "metadata": {
        "trusted": true
      },
      "cell_type": "code",
      "source": "titanicData = titanicData.drop(columns=['name'])",
      "execution_count": 6,
      "outputs": []
    },
    {
      "metadata": {
        "trusted": true,
        "scrolled": true
      },
      "cell_type": "code",
      "source": "titanicData.head(1)",
      "execution_count": 7,
      "outputs": [
        {
          "output_type": "execute_result",
          "execution_count": 7,
          "data": {
            "text/html": "<div>\n<style scoped>\n    .dataframe tbody tr th:only-of-type {\n        vertical-align: middle;\n    }\n\n    .dataframe tbody tr th {\n        vertical-align: top;\n    }\n\n    .dataframe thead th {\n        text-align: right;\n    }\n</style>\n<table border=\"1\" class=\"dataframe\">\n  <thead>\n    <tr style=\"text-align: right;\">\n      <th></th>\n      <th>pclass</th>\n      <th>survived</th>\n      <th>sex</th>\n      <th>age</th>\n      <th>sibsp</th>\n      <th>parch</th>\n      <th>ticket</th>\n      <th>fare</th>\n      <th>cabin</th>\n      <th>embarked</th>\n    </tr>\n  </thead>\n  <tbody>\n    <tr>\n      <th>0</th>\n      <td>1.0</td>\n      <td>1.0</td>\n      <td>female</td>\n      <td>29</td>\n      <td>0.0</td>\n      <td>0.0</td>\n      <td>24160</td>\n      <td>211,3375</td>\n      <td>B5</td>\n      <td>S</td>\n    </tr>\n  </tbody>\n</table>\n</div>",
            "text/plain": "   pclass  survived     sex age  sibsp  parch ticket      fare cabin embarked\n0     1.0       1.0  female  29    0.0    0.0  24160  211,3375    B5        S"
          },
          "metadata": {}
        }
      ]
    },
    {
      "metadata": {},
      "cell_type": "markdown",
      "source": "#### Other irellevant features `cabin`, `embarked` and `ticket`"
    },
    {
      "metadata": {},
      "cell_type": "markdown",
      "source": "Machine Learning algortihms can bearly deal with `null` values. Just be looking at our dataframe above, we see for example, that the Cabin is bearly filled out in our dataframe. Lets let python give us more information on the dataframe:"
    },
    {
      "metadata": {
        "trusted": true
      },
      "cell_type": "code",
      "source": "titanicData.info()",
      "execution_count": 8,
      "outputs": [
        {
          "output_type": "stream",
          "text": "<class 'pandas.core.frame.DataFrame'>\nRangeIndex: 1310 entries, 0 to 1309\nData columns (total 10 columns):\npclass      1309 non-null float64\nsurvived    1309 non-null float64\nsex         1309 non-null object\nage         1046 non-null object\nsibsp       1309 non-null float64\nparch       1309 non-null float64\nticket      1309 non-null object\nfare        1308 non-null object\ncabin       295 non-null object\nembarked    1307 non-null object\ndtypes: float64(4), object(6)\nmemory usage: 102.4+ KB\n",
          "name": "stdout"
        }
      ]
    },
    {
      "metadata": {},
      "cell_type": "markdown",
      "source": "We can see that there are only 295 not null values for the cabin feature: `295 non-null object`. Also the cabin feature is to ambigous to infer the survival chances of a passenger:"
    },
    {
      "metadata": {
        "trusted": true
      },
      "cell_type": "code",
      "source": "len(titanicData.cabin.unique())",
      "execution_count": 9,
      "outputs": [
        {
          "output_type": "execute_result",
          "execution_count": 9,
          "data": {
            "text/plain": "187"
          },
          "metadata": {}
        }
      ]
    },
    {
      "metadata": {},
      "cell_type": "markdown",
      "source": "So lets also get rid of this column!"
    },
    {
      "metadata": {
        "trusted": true
      },
      "cell_type": "code",
      "source": "titanicData = titanicData.drop(columns=['cabin'])",
      "execution_count": 10,
      "outputs": []
    },
    {
      "metadata": {
        "trusted": true
      },
      "cell_type": "code",
      "source": "titanicData.head(1)",
      "execution_count": 11,
      "outputs": [
        {
          "output_type": "execute_result",
          "execution_count": 11,
          "data": {
            "text/html": "<div>\n<style scoped>\n    .dataframe tbody tr th:only-of-type {\n        vertical-align: middle;\n    }\n\n    .dataframe tbody tr th {\n        vertical-align: top;\n    }\n\n    .dataframe thead th {\n        text-align: right;\n    }\n</style>\n<table border=\"1\" class=\"dataframe\">\n  <thead>\n    <tr style=\"text-align: right;\">\n      <th></th>\n      <th>pclass</th>\n      <th>survived</th>\n      <th>sex</th>\n      <th>age</th>\n      <th>sibsp</th>\n      <th>parch</th>\n      <th>ticket</th>\n      <th>fare</th>\n      <th>embarked</th>\n    </tr>\n  </thead>\n  <tbody>\n    <tr>\n      <th>0</th>\n      <td>1.0</td>\n      <td>1.0</td>\n      <td>female</td>\n      <td>29</td>\n      <td>0.0</td>\n      <td>0.0</td>\n      <td>24160</td>\n      <td>211,3375</td>\n      <td>S</td>\n    </tr>\n  </tbody>\n</table>\n</div>",
            "text/plain": "   pclass  survived     sex age  sibsp  parch ticket      fare embarked\n0     1.0       1.0  female  29    0.0    0.0  24160  211,3375        S"
          },
          "metadata": {}
        }
      ]
    },
    {
      "metadata": {},
      "cell_type": "markdown",
      "source": "The feature `cabin` looks strange as well. Its type is object, so its nor numerical or categorical:"
    },
    {
      "metadata": {
        "trusted": true
      },
      "cell_type": "code",
      "source": "titanicData.ticket.unique()",
      "execution_count": 12,
      "outputs": [
        {
          "output_type": "execute_result",
          "execution_count": 12,
          "data": {
            "text/plain": "array(['24160', '113781', '19952', '13502', '112050', '11769', 'PC 17609',\n       'PC 17757', 'PC 17477', '19877', '27042', 'PC 17318', 'PC 17558',\n       '11813', '13050', '11751', '111369', 'PC 17483', '13905', '11967',\n       'PC 17760', '110564', '113784', '112277', '36928', '113783',\n       '110489', 'PC 17608', '113505', '111427', '113054', 'PC 17591',\n       '112379', 'PC 17610', '16966', '113050', '113798', 'PC 17476',\n       'PC 17606', 'PC 17755', '695', '113059', '113760', '19924',\n       '17770', 'W.E.P. 5734', '113806', '110152', 'PC 17594', '112051',\n       '13508', '110465', '5727', 'PC 17756', '11770', '113791',\n       'WE/P 5735', '112901', 'PC 17599', '113055', '113804',\n       'F.C. 12750', '17474', '33638', 'PC 17761', '11755', 'PC 17485',\n       'PC 17580', '11767', '36947', 'PC 17531', 'PC 17598', '17421',\n       'PC 17474', '113051', '19950', '113778', 'PC 17611', '17765',\n       '13568', '13567', '112058', '113803', '111320', '113503', '112378',\n       'PC 17593', '17453', 'PC 17754', '113780', '112053', 'PC 17582',\n       'PC 17759', '11765', 'PC 17572', '113796', '36973', '112059',\n       '16988', '12749', '113038', '17463', '680', '111361', '113789',\n       '111426', '19943', 'PC 17600', '113572', 'PC 17595', '694',\n       '113044', '11771', '17464', '11753', '113028', '17465', 'PC 17612',\n       '17475', '112377', 'PC 17592', '113501', '113801', 'PC 17569',\n       '110469', '11774', '113773', 'PC 17482', 'PC 17473', 'PC 17604',\n       '13509', '19928', '13236', '113787', 'PC 17596', '35273', '11752',\n       '693', 'PC 17758', 'F.C. 12998', '113509', 'PC 17562', '112052',\n       '113043', '113776', '113786', '19972', 'PC 17607', 'PC 17590',\n       '111428', '113767', 'PC 17613', 'PC 17585', '13049', 'PC 17603',\n       '113790', '19988', '111163', '113794', 'PC 17475', '13507',\n       '13213', '113788', '113792', '17764', '13695', '113056', '21228',\n       '13214', '113514', '11778', 'PC 17605', '36963', '17466', '110413',\n       '19996', '2543', 'PC 17601', '111240', '36967', '110813', '113800',\n       '35281', '113795', 'PC 17597', '113510', '19947', '113807',\n       'P/PP 3381', '248744', '231945', 'C.A. 34050', '226875', '244346',\n       '29108', 'C.A. 31030', '28551', 'C.A./SOTON 34068', 'S.O.P. 1166',\n       '2908', '244358', '230136', '248698', '28404', '28425', '237670',\n       '211535', '220367', '248733', '29750', '236853', '27849', '234686',\n       '244310', '236852', '248738', 'F.C.C. 13528', '239853', '28424',\n       '244252', '248731', 'SC/AH 29037', '237789', '2003', 'W./C. 14263',\n       '248740', '28034', 'C.A. 31921', 'W./C. 14266', '237249',\n       'F.C.C. 13534', '29107', 'C.A. 33112', 'S.O.C. 14879', '237668',\n       '244360', 'SC/PARIS 2167', 'C.A. 31029', '231919', '28403',\n       '28220', 'SC/PARIS 2149', 'SC/PARIS 2148', '29751', '236854',\n       '236171', '2926', 'C.A. 15185', '229236', '239854', '237671',\n       '239865', '28664', '243880', '31028', 'C.A. 30769', '28133',\n       '28134', '248726', '233866', '12233', '250646', '250647', '250653',\n       '250649', '248746', '248727', 'S.W./PP 752', 'W/C 14208',\n       'F.C.C. 13529', '220845', '248706', '250650', '29105', '29104',\n       '242963', '250643', '26707', '237798', '24065', 'SCO/W 1585',\n       'SO/C 14885', '243847', '237565', 'C.A. 33111', 'SC/AH Basle 541',\n       '244367', '226593', '233734', '223596', '219533', '239855',\n       'C.A. 18723', '250651', '240261', 'SC/Paris 2123', 'SC 1748',\n       'C.A. 34260', 'SC/Paris 2163', 'C.A. 29566', '235509',\n       'SC/AH 3085', 'S.O./P.P. 3', '237735', 'S.C./PARIS 2079',\n       'SC/A.3 2861', '28228', '239059', '237216', '233478', '250644',\n       'SW/PP 751', '248723', '234360', 'C.A. 24580', '211536', '29011',\n       '250655', '240276', '237736', '230080', '244368', '218629',\n       'SC/PARIS 2166', 'C.A. 29395', '28213', 'W./C. 14260',\n       'SC/PARIS 2146', '244278', 'SC/PARIS 2147', 'SC 14888', '230433',\n       '28665', 'SC/PARIS 2131', '237393', 'S.O./P.P. 2', '234604',\n       'C.A. 34644', 'SC/PARIS 2168', '26360', 'C.A. 17248', '31027',\n       '230434', 'SC/PARIS 2133', '29106', 'W./C. 14258', '28004',\n       'C.A. 31026', '248659', '244361', '250652', '250648', '237442',\n       '234818', '28206', '31418', 'C.A. 29178', '237734', 'F.C.C. 13540',\n       '248734', 'F.C.C. 13531', '233639', '240929', '34218', '11668',\n       '28221', 'CA 31352', '28666', '239856', 'C.A. 33595', '27267',\n       '228414', '29103', 'C.A. 34651', 'C.A. 24579', 'SC/PARIS 2159',\n       '244270', '244373', '220844', '248747', 'C.A. 5547', 'C.A. 2673',\n       '348125', '348122', 'SOTON/O2 3101284', '2657', 'C 7076', '341826',\n       '7546', '392091', '2699', '3474', 'SOTON/O2 3101287',\n       'SOTON/O.Q. 3101311', 'SOTON/O.Q. 3101312', '373450', '2223',\n       'C 4001', '350046', '347082', '3101281', '347091', '350043',\n       '347075', '347466', '349202', '349237', '349911',\n       'SOTON/O.Q. 3101310', '347077', '350054', '2696', '2692',\n       'SOTON/O.Q. 3101309', '2627', '2694', '347468', '2687', '2679',\n       '3101278', '2666', 'A/4 31416', '2623', '349248', '2663', '2691',\n       '330844', '324669', '323951', '347068', 'PP 4348', '2622', '2648',\n       '1601', '312992', '347090', '349224', '2678', '2664', '364848',\n       '364849', '54636', '334914', '347471', '3460', 'A/5 21171',\n       '350045', '364512', '329944', '330920', '365222', '330963',\n       '315087', '315084', '315091', '315089', '315093', '315086',\n       '364846', '364858', 'A./5. 2152', '2689', '350042', '350409',\n       '367231', '368364', '392095', '343275', 'A/5. 13032', '343276',\n       '2680', 'SOTON/O.Q. 3101307', 'A/5 3540', '371109', '349210',\n       '349209', '21332', '335097', '370373', '330972', '370369',\n       'A/5 3536', '349230', '349229', '349231', 'SOTON/OQ 392090',\n       'C.A. 37671', '364500', 'S.P. 3464', '371362', '315090', '2698',\n       '7598', '7552', '349228', '382650', '382651', '347080', '349219',\n       '349203', 'A/4 48871', 'SC/A4 23568', 'A/4 48873', '386525',\n       '345572', '345774', '345778', 'C.A. 2315', '349250', '349238',\n       '349225', 'A/5 21172', 'A/5 21175', '330958', '349232', '315088',\n       '349226', '2686', '370376', 'A/5. 10482', '364516', '368702',\n       'SOTON/OQ 392083', '349241', '336439', 'S.O./P.P. 752', '347072',\n       '349912', '347074', '347061', '2674', '2675', '2690', '2695',\n       'A/5 3902', '2631', 'C.A. 6212', '367232', 'SOTON/O.Q. 3101308',\n       '350036', '364859', '364851', '368323', '330910', '365235',\n       'W./C. 6608', 'A/5 1478', '368573', 'SOTON/O.Q. 3101314', '36864',\n       '358585', '349254', '14973', '35851', '335677', '363291',\n       'SOTON/O.Q. 3101263', 'SOTON/O.Q. 3101306', 'CA 2144', '21440',\n       '8471', '376563', '7534', '3101276', '3101277', '347069', '349236',\n       'AQ/3. 30631', '65303', '65304', 'STON/O2. 3101279', '345769',\n       '2693', '350026', '350025', '350029', 'W./C. 6609', '374887',\n       '394140', '370375', '347089', '365226', 'STON/O2. 3101282',\n       'STON/O2. 3101290', '7548', '349243', '347086', '382649',\n       '3101298', 'C 7075', 'STON/O2. 3101283', '370377', 'A. 2. 39186',\n       '348121', '3470', '2685', '349220', 'STON/O2. 3101270',\n       'STON/O2. 3101271', '349201', '349240', '350034',\n       'SOTON/O.Q. 3101305', '350050', '350047', '350048', '14313',\n       '65306', '3101264', '347070', '350052', '7540', '347063', '347467',\n       '347742', 'LINE', '347062', 'W./C. 6607', '349204', '350417',\n       '350408', '4136', '4137', 'STON/O 2. 3101286', 'STON/O 2. 3101274',\n       '8475', '349246', '350053', '347465', '350060', '349256', '2700',\n       '2682', '12460', '323592', '9234', '14312', '330911', '363592',\n       '368783', '2660', '367227', '367229', '36865', '315152', '315151',\n       '315153', '350405', '350404', '349253', '2654', '2624', '4135',\n       '349217', 'C 7077', '7935', '7545', '347067', '347065', '2620',\n       '4133', 'STON/O 2. 3101292', '2683', '370371', '345781', '347071',\n       '347073', '349910', 'STON/O 2. 3101285', '330971', 'S.O./P.P. 251',\n       'A/5. 3336', '1222', 'A/5 21173', '315098', '347743', '347469',\n       '350403', '349235', 'C.A. 42795', '370370', 'C 17369',\n       'STON/O 2. 3101275', '330924', 'AQ/4 3130', 'A/S 2816',\n       'STON/O 2. 3101268', '2677', '364850', '36866', '2655', '349213',\n       '349257', '2649', '349255', '383123', '367228', '367226', '330932',\n       '36568', '330931', '330923', '9232', '370372', '376566', '370368',\n       'SOTON/O.Q. 392087', '343095', 'A.5. 11206', '368703', '345501',\n       '359306', '349233', '349211', '349207', '349221', '330980',\n       '348123', '392096', 'A4. 54510', '371110', '330877', '364506',\n       '372622', '312991', '2661', '2626', '374746', '35852', '382653',\n       'A./5. 3235', '367230', '347078', '349206', '2667', '2653',\n       'A./5. 3338', '349218', '2652', '365237', '349234', '2651',\n       '3101297', '363611', '347066', '347470', '350410',\n       'SOTON/O2 3101272', 'STON/O 2. 3101289', 'A/4. 39886', '2697',\n       '347081', '345364', '370365', '330979', '334912', '371060',\n       '366713', '7267', '364856', '14311', '330959', '347085', '368402',\n       '330919', 'C 17368', '4579', 'Fa 265302', '350407', '347464',\n       '347079', '6563', '315085', '315096', '315094', '349244', '330909',\n       '349909', '3101295', '315097', '3411', '349242',\n       'SOTON/O.Q. 3101315', '343271', '345498', 'A/5 2817',\n       'STON/O 2. 3101294', 'STON/O 2. 3101291', 'A/5 21174', '347083',\n       '2668', '330935', '342441', '349245', '349212', '349215', '347076',\n       '347087', 'SOTON/O.Q. 392078', '349227', '315095', '315092',\n       '349223', '65305', '2629', '362316', '349249', '342684', '382652',\n       'STON/O 2. 3101273', '334915', '364498', 'A/5. 3337',\n       'S.C./A.4. 23567', '312993', '370129', '342712', 'A/5 3594',\n       'A/4. 20589', '383162', '2671', '2672', '2676', '367655',\n       'LP 1588', 'SOTON/O.Q. 3101262', 'CA. 2343', '7266', '343120',\n       '3101296', '2662', 'PP 9549', '345768', 'A/5. 2151', '342826',\n       '36209', '349222', '370374', '345779', '330968', '374910',\n       'SOTON/OQ 392082', '2669', '392092', '349251', 'STON/O 2. 3101280',\n       '3101265', '347088', '349214', 'SOTON/OQ 392086', '315037',\n       '384461', '335432', '348124', 'A.5. 18509', 'A.5. 3236',\n       'STON/OQ. 369943', '349208', '349239', 'CA. 2314', 'A/4 45380',\n       '3701', '349205', '7553', 'STON/O 2. 3101288', '315083', '347054',\n       'SOTON/OQ 392089', 'STON/O 2. 3101269', 'SOTON/OQ 392076',\n       '347060', '7538', '350035', '350033', '363294', '2625', '2621',\n       '2681', '2684', '32302', '376564', 'STON/O 2. 3101293', '383121',\n       '349216', '364499', '364511', '2673', '2641', '2650', '349247',\n       '4138', '4134', 'A/5. 851', '345773', '345777', '345780', '345770',\n       '345783', '345765', '345764', '345763', '2658', '350416', '350406',\n       '349252', '345767', '359309', 'C.A. 49867', 'SOTON/OQ 3101316',\n       '345775', '2688', '347064', '3101267', '3101266', '363272', '3410',\n       'S.O./P.P. 751', 'A/5 2466', 'SOTON/OQ 3101317', '315154',\n       'A/4. 34244', '345771', '2659', '2628', '2647', '2665', '2656',\n       '2670', '315082', nan], dtype=object)"
          },
          "metadata": {}
        }
      ]
    },
    {
      "metadata": {
        "trusted": true
      },
      "cell_type": "code",
      "source": "print(\"count of unique values: \" + str(len(titanicData.ticket.unique()))) ",
      "execution_count": 13,
      "outputs": [
        {
          "output_type": "stream",
          "text": "count of unique values: 930\n",
          "name": "stdout"
        }
      ]
    },
    {
      "metadata": {},
      "cell_type": "markdown",
      "source": "The way the ticket is described is ambigous, sometimes its just a number like `3101266`. Other entries contain strings and numbers `SOTON/O2 3101272`. Further more, there are 930 different entries for about 1300 passengers. This is now information we can infer the chances of survival of a passenger. So lets get also rid of this feature!"
    },
    {
      "metadata": {
        "trusted": true
      },
      "cell_type": "code",
      "source": "titanicData = titanicData.drop(columns=['ticket'])\ntitanicData.head(1)",
      "execution_count": 14,
      "outputs": [
        {
          "output_type": "execute_result",
          "execution_count": 14,
          "data": {
            "text/html": "<div>\n<style scoped>\n    .dataframe tbody tr th:only-of-type {\n        vertical-align: middle;\n    }\n\n    .dataframe tbody tr th {\n        vertical-align: top;\n    }\n\n    .dataframe thead th {\n        text-align: right;\n    }\n</style>\n<table border=\"1\" class=\"dataframe\">\n  <thead>\n    <tr style=\"text-align: right;\">\n      <th></th>\n      <th>pclass</th>\n      <th>survived</th>\n      <th>sex</th>\n      <th>age</th>\n      <th>sibsp</th>\n      <th>parch</th>\n      <th>fare</th>\n      <th>embarked</th>\n    </tr>\n  </thead>\n  <tbody>\n    <tr>\n      <th>0</th>\n      <td>1.0</td>\n      <td>1.0</td>\n      <td>female</td>\n      <td>29</td>\n      <td>0.0</td>\n      <td>0.0</td>\n      <td>211,3375</td>\n      <td>S</td>\n    </tr>\n  </tbody>\n</table>\n</div>",
            "text/plain": "   pclass  survived     sex age  sibsp  parch      fare embarked\n0     1.0       1.0  female  29    0.0    0.0  211,3375        S"
          },
          "metadata": {}
        }
      ]
    },
    {
      "metadata": {},
      "cell_type": "markdown",
      "source": "The feature `embarked` tells us, where the passenger got on board the titanic. There are following three locations listed:"
    },
    {
      "metadata": {
        "trusted": true
      },
      "cell_type": "code",
      "source": "titanicData.embarked.unique()",
      "execution_count": 15,
      "outputs": [
        {
          "output_type": "execute_result",
          "execution_count": 15,
          "data": {
            "text/plain": "array(['S', 'C', nan, 'Q'], dtype=object)"
          },
          "metadata": {}
        }
      ]
    },
    {
      "metadata": {
        "trusted": true
      },
      "cell_type": "code",
      "source": "import seaborn as sns\nimport matplotlib.pyplot as plt\n\nsns.barplot(x = \"embarked\", y = \"survived\", data = titanicData)\nplt.show()",
      "execution_count": 17,
      "outputs": [
        {
          "output_type": "display_data",
          "data": {
            "image/png": "[encoded data removed]",
            "text/plain": "<Figure size 432x288 with 1 Axes>"
          },
          "metadata": {
            "needs_background": "light"
          }
        }
      ]
    },
    {
      "metadata": {},
      "cell_type": "markdown",
      "source": "It don't think that this information tells us much about the survival chances of an passenger. The survival chance may be affected by the class the passenger was travelling in, but knowing where he embarked from does not contain such information. So lets also drop this column."
    },
    {
      "metadata": {
        "trusted": true
      },
      "cell_type": "code",
      "source": "titanicData = titanicData.drop(columns=['embarked'])\ntitanicData.head(1)",
      "execution_count": 18,
      "outputs": [
        {
          "output_type": "execute_result",
          "execution_count": 18,
          "data": {
            "text/html": "<div>\n<style scoped>\n    .dataframe tbody tr th:only-of-type {\n        vertical-align: middle;\n    }\n\n    .dataframe tbody tr th {\n        vertical-align: top;\n    }\n\n    .dataframe thead th {\n        text-align: right;\n    }\n</style>\n<table border=\"1\" class=\"dataframe\">\n  <thead>\n    <tr style=\"text-align: right;\">\n      <th></th>\n      <th>pclass</th>\n      <th>survived</th>\n      <th>sex</th>\n      <th>age</th>\n      <th>sibsp</th>\n      <th>parch</th>\n      <th>fare</th>\n    </tr>\n  </thead>\n  <tbody>\n    <tr>\n      <th>0</th>\n      <td>1.0</td>\n      <td>1.0</td>\n      <td>female</td>\n      <td>29</td>\n      <td>0.0</td>\n      <td>0.0</td>\n      <td>211,3375</td>\n    </tr>\n  </tbody>\n</table>\n</div>",
            "text/plain": "   pclass  survived     sex age  sibsp  parch      fare\n0     1.0       1.0  female  29    0.0    0.0  211,3375"
          },
          "metadata": {}
        }
      ]
    },
    {
      "metadata": {},
      "cell_type": "markdown",
      "source": "### Feature extraction/ Feature compression on `sibsp` and `parch`"
    },
    {
      "metadata": {},
      "cell_type": "markdown",
      "source": "This features gives us information about how much family members where with a particular passenger on board:\n\n- `sibsp`: siblings / spouses on board\n- `parch`: parents / childs\n\nTo keep things easy, lets infer a new feature out of this two features: `withfamily`\nThis feature will be categorical with:\n\n- `0`: was travelling alone\n- `1`: had some family aboard"
    },
    {
      "metadata": {
        "trusted": true
      },
      "cell_type": "code",
      "source": "import numpy as np\ntitanicData['withfamily'] = np.where(titanicData['sibsp'] + titanicData['parch'] > 0, 1, 0)\ntitanicData.head(10)",
      "execution_count": 19,
      "outputs": [
        {
          "output_type": "execute_result",
          "execution_count": 19,
          "data": {
            "text/html": "<div>\n<style scoped>\n    .dataframe tbody tr th:only-of-type {\n        vertical-align: middle;\n    }\n\n    .dataframe tbody tr th {\n        vertical-align: top;\n    }\n\n    .dataframe thead th {\n        text-align: right;\n    }\n</style>\n<table border=\"1\" class=\"dataframe\">\n  <thead>\n    <tr style=\"text-align: right;\">\n      <th></th>\n      <th>pclass</th>\n      <th>survived</th>\n      <th>sex</th>\n      <th>age</th>\n      <th>sibsp</th>\n      <th>parch</th>\n      <th>fare</th>\n      <th>withfamily</th>\n    </tr>\n  </thead>\n  <tbody>\n    <tr>\n      <th>0</th>\n      <td>1.0</td>\n      <td>1.0</td>\n      <td>female</td>\n      <td>29</td>\n      <td>0.0</td>\n      <td>0.0</td>\n      <td>211,3375</td>\n      <td>0</td>\n    </tr>\n    <tr>\n      <th>1</th>\n      <td>1.0</td>\n      <td>1.0</td>\n      <td>male</td>\n      <td>0,9167</td>\n      <td>1.0</td>\n      <td>2.0</td>\n      <td>151,5500</td>\n      <td>1</td>\n    </tr>\n    <tr>\n      <th>2</th>\n      <td>1.0</td>\n      <td>0.0</td>\n      <td>female</td>\n      <td>2</td>\n      <td>1.0</td>\n      <td>2.0</td>\n      <td>151,5500</td>\n      <td>1</td>\n    </tr>\n    <tr>\n      <th>3</th>\n      <td>1.0</td>\n      <td>0.0</td>\n      <td>male</td>\n      <td>30</td>\n      <td>1.0</td>\n      <td>2.0</td>\n      <td>151,5500</td>\n      <td>1</td>\n    </tr>\n    <tr>\n      <th>4</th>\n      <td>1.0</td>\n      <td>0.0</td>\n      <td>female</td>\n      <td>25</td>\n      <td>1.0</td>\n      <td>2.0</td>\n      <td>151,5500</td>\n      <td>1</td>\n    </tr>\n    <tr>\n      <th>5</th>\n      <td>1.0</td>\n      <td>1.0</td>\n      <td>male</td>\n      <td>48</td>\n      <td>0.0</td>\n      <td>0.0</td>\n      <td>26,5500</td>\n      <td>0</td>\n    </tr>\n    <tr>\n      <th>6</th>\n      <td>1.0</td>\n      <td>1.0</td>\n      <td>female</td>\n      <td>63</td>\n      <td>1.0</td>\n      <td>0.0</td>\n      <td>77,9583</td>\n      <td>1</td>\n    </tr>\n    <tr>\n      <th>7</th>\n      <td>1.0</td>\n      <td>0.0</td>\n      <td>male</td>\n      <td>39</td>\n      <td>0.0</td>\n      <td>0.0</td>\n      <td>0,0000</td>\n      <td>0</td>\n    </tr>\n    <tr>\n      <th>8</th>\n      <td>1.0</td>\n      <td>1.0</td>\n      <td>female</td>\n      <td>53</td>\n      <td>2.0</td>\n      <td>0.0</td>\n      <td>51,4792</td>\n      <td>1</td>\n    </tr>\n    <tr>\n      <th>9</th>\n      <td>1.0</td>\n      <td>0.0</td>\n      <td>male</td>\n      <td>71</td>\n      <td>0.0</td>\n      <td>0.0</td>\n      <td>49,5042</td>\n      <td>0</td>\n    </tr>\n  </tbody>\n</table>\n</div>",
            "text/plain": "   pclass  survived     sex     age  sibsp  parch      fare  withfamily\n0     1.0       1.0  female      29    0.0    0.0  211,3375           0\n1     1.0       1.0    male  0,9167    1.0    2.0  151,5500           1\n2     1.0       0.0  female       2    1.0    2.0  151,5500           1\n3     1.0       0.0    male      30    1.0    2.0  151,5500           1\n4     1.0       0.0  female      25    1.0    2.0  151,5500           1\n5     1.0       1.0    male      48    0.0    0.0   26,5500           0\n6     1.0       1.0  female      63    1.0    0.0   77,9583           1\n7     1.0       0.0    male      39    0.0    0.0    0,0000           0\n8     1.0       1.0  female      53    2.0    0.0   51,4792           1\n9     1.0       0.0    male      71    0.0    0.0   49,5042           0"
          },
          "metadata": {}
        }
      ]
    },
    {
      "metadata": {},
      "cell_type": "markdown",
      "source": "Now we can again reduce our dataset by dropping the columns `sibsp` and `parch`"
    },
    {
      "metadata": {
        "trusted": true,
        "scrolled": true
      },
      "cell_type": "code",
      "source": "titanicData = titanicData.drop(columns=['sibsp','parch'])\ntitanicData.head(1)\n\n",
      "execution_count": 20,
      "outputs": [
        {
          "output_type": "execute_result",
          "execution_count": 20,
          "data": {
            "text/html": "<div>\n<style scoped>\n    .dataframe tbody tr th:only-of-type {\n        vertical-align: middle;\n    }\n\n    .dataframe tbody tr th {\n        vertical-align: top;\n    }\n\n    .dataframe thead th {\n        text-align: right;\n    }\n</style>\n<table border=\"1\" class=\"dataframe\">\n  <thead>\n    <tr style=\"text-align: right;\">\n      <th></th>\n      <th>pclass</th>\n      <th>survived</th>\n      <th>sex</th>\n      <th>age</th>\n      <th>fare</th>\n      <th>withfamily</th>\n    </tr>\n  </thead>\n  <tbody>\n    <tr>\n      <th>0</th>\n      <td>1.0</td>\n      <td>1.0</td>\n      <td>female</td>\n      <td>29</td>\n      <td>211,3375</td>\n      <td>0</td>\n    </tr>\n  </tbody>\n</table>\n</div>",
            "text/plain": "   pclass  survived     sex age      fare  withfamily\n0     1.0       1.0  female  29  211,3375           0"
          },
          "metadata": {}
        }
      ]
    },
    {
      "metadata": {
        "trusted": true
      },
      "cell_type": "code",
      "source": "import seaborn as sns\nimport matplotlib.pyplot as plt\n\nsns.barplot(x = \"withfamily\", y = \"survived\", data = titanicData)\nplt.show()",
      "execution_count": 21,
      "outputs": [
        {
          "output_type": "display_data",
          "data": {
            "image/png": "[encoded data removed]",
            "text/plain": "<Figure size 432x288 with 1 Axes>"
          },
          "metadata": {
            "needs_background": "light"
          }
        }
      ]
    },
    {
      "metadata": {},
      "cell_type": "markdown",
      "source": "### Filling up `null` values on feature `age`"
    },
    {
      "metadata": {},
      "cell_type": "markdown",
      "source": "Looking at the information of the `age` feature, we can see that there are about 300 `null` values also its type is `object`. So we have some **missing values** here!\nThe feature `age` is never the less very important for us. \n\nWe all know about the rule when leaving a sinking ship: **Frauen und Kinder zuerst!** (women and children first!)."
    },
    {
      "metadata": {
        "trusted": true
      },
      "cell_type": "code",
      "source": "titanicData.info()",
      "execution_count": 22,
      "outputs": [
        {
          "output_type": "stream",
          "text": "<class 'pandas.core.frame.DataFrame'>\nRangeIndex: 1310 entries, 0 to 1309\nData columns (total 6 columns):\npclass        1309 non-null float64\nsurvived      1309 non-null float64\nsex           1309 non-null object\nage           1046 non-null object\nfare          1308 non-null object\nwithfamily    1310 non-null int64\ndtypes: float64(2), int64(1), object(3)\nmemory usage: 61.5+ KB\n",
          "name": "stdout"
        }
      ]
    },
    {
      "metadata": {},
      "cell_type": "markdown",
      "source": "There is a whole part of research on how to fill such `null` values in a data set. For reasons of simplicity we just take the **mean** of the age of all other passengers to get rid of these `null` values. Taking the **median** could be another option, because it is not so heavily affected by outliners."
    },
    {
      "metadata": {
        "trusted": true
      },
      "cell_type": "code",
      "source": "titanicData.age = titanicData.age.apply(lambda x: str(x).replace(',','.'))\ntitanicData = titanicData.astype({'age': 'float64'})\nmeanAgeOfAllPassengers = titanicData.age[titanicData.age.notnull()].mean()\n\nprint(\"The mean age on the titanic was: \" + str(meanAgeOfAllPassengers))\n\ntitanicData.age.fillna(meanAgeOfAllPassengers, inplace=True)\n",
      "execution_count": 23,
      "outputs": [
        {
          "output_type": "stream",
          "text": "The mean age on the titanic was: 29.8811345124283\n",
          "name": "stdout"
        }
      ]
    },
    {
      "metadata": {},
      "cell_type": "markdown",
      "source": "Now we got rid of the `null` values:"
    },
    {
      "metadata": {
        "trusted": true
      },
      "cell_type": "code",
      "source": "titanicData.info()",
      "execution_count": 24,
      "outputs": [
        {
          "output_type": "stream",
          "text": "<class 'pandas.core.frame.DataFrame'>\nRangeIndex: 1310 entries, 0 to 1309\nData columns (total 6 columns):\npclass        1309 non-null float64\nsurvived      1309 non-null float64\nsex           1309 non-null object\nage           1310 non-null float64\nfare          1308 non-null object\nwithfamily    1310 non-null int64\ndtypes: float64(3), int64(1), object(2)\nmemory usage: 61.5+ KB\n",
          "name": "stdout"
        }
      ]
    },
    {
      "metadata": {},
      "cell_type": "markdown",
      "source": "We still can see that there are rows with null values present, but the count of the (`3` for example on `embarked`) is not very high. So lets get also rid of these rows in order to proceed without `null` values:"
    },
    {
      "metadata": {
        "trusted": true
      },
      "cell_type": "code",
      "source": "titanicData = titanicData.dropna()\ntitanicData.info()",
      "execution_count": 25,
      "outputs": [
        {
          "output_type": "stream",
          "text": "<class 'pandas.core.frame.DataFrame'>\nInt64Index: 1308 entries, 0 to 1308\nData columns (total 6 columns):\npclass        1308 non-null float64\nsurvived      1308 non-null float64\nsex           1308 non-null object\nage           1308 non-null float64\nfare          1308 non-null object\nwithfamily    1308 non-null int64\ndtypes: float64(3), int64(1), object(2)\nmemory usage: 71.5+ KB\n",
          "name": "stdout"
        }
      ]
    },
    {
      "metadata": {
        "trusted": true
      },
      "cell_type": "code",
      "source": "titanicData.head(10)",
      "execution_count": 26,
      "outputs": [
        {
          "output_type": "execute_result",
          "execution_count": 26,
          "data": {
            "text/html": "<div>\n<style scoped>\n    .dataframe tbody tr th:only-of-type {\n        vertical-align: middle;\n    }\n\n    .dataframe tbody tr th {\n        vertical-align: top;\n    }\n\n    .dataframe thead th {\n        text-align: right;\n    }\n</style>\n<table border=\"1\" class=\"dataframe\">\n  <thead>\n    <tr style=\"text-align: right;\">\n      <th></th>\n      <th>pclass</th>\n      <th>survived</th>\n      <th>sex</th>\n      <th>age</th>\n      <th>fare</th>\n      <th>withfamily</th>\n    </tr>\n  </thead>\n  <tbody>\n    <tr>\n      <th>0</th>\n      <td>1.0</td>\n      <td>1.0</td>\n      <td>female</td>\n      <td>29.0000</td>\n      <td>211,3375</td>\n      <td>0</td>\n    </tr>\n    <tr>\n      <th>1</th>\n      <td>1.0</td>\n      <td>1.0</td>\n      <td>male</td>\n      <td>0.9167</td>\n      <td>151,5500</td>\n      <td>1</td>\n    </tr>\n    <tr>\n      <th>2</th>\n      <td>1.0</td>\n      <td>0.0</td>\n      <td>female</td>\n      <td>2.0000</td>\n      <td>151,5500</td>\n      <td>1</td>\n    </tr>\n    <tr>\n      <th>3</th>\n      <td>1.0</td>\n      <td>0.0</td>\n      <td>male</td>\n      <td>30.0000</td>\n      <td>151,5500</td>\n      <td>1</td>\n    </tr>\n    <tr>\n      <th>4</th>\n      <td>1.0</td>\n      <td>0.0</td>\n      <td>female</td>\n      <td>25.0000</td>\n      <td>151,5500</td>\n      <td>1</td>\n    </tr>\n    <tr>\n      <th>5</th>\n      <td>1.0</td>\n      <td>1.0</td>\n      <td>male</td>\n      <td>48.0000</td>\n      <td>26,5500</td>\n      <td>0</td>\n    </tr>\n    <tr>\n      <th>6</th>\n      <td>1.0</td>\n      <td>1.0</td>\n      <td>female</td>\n      <td>63.0000</td>\n      <td>77,9583</td>\n      <td>1</td>\n    </tr>\n    <tr>\n      <th>7</th>\n      <td>1.0</td>\n      <td>0.0</td>\n      <td>male</td>\n      <td>39.0000</td>\n      <td>0,0000</td>\n      <td>0</td>\n    </tr>\n    <tr>\n      <th>8</th>\n      <td>1.0</td>\n      <td>1.0</td>\n      <td>female</td>\n      <td>53.0000</td>\n      <td>51,4792</td>\n      <td>1</td>\n    </tr>\n    <tr>\n      <th>9</th>\n      <td>1.0</td>\n      <td>0.0</td>\n      <td>male</td>\n      <td>71.0000</td>\n      <td>49,5042</td>\n      <td>0</td>\n    </tr>\n  </tbody>\n</table>\n</div>",
            "text/plain": "   pclass  survived     sex      age      fare  withfamily\n0     1.0       1.0  female  29.0000  211,3375           0\n1     1.0       1.0    male   0.9167  151,5500           1\n2     1.0       0.0  female   2.0000  151,5500           1\n3     1.0       0.0    male  30.0000  151,5500           1\n4     1.0       0.0  female  25.0000  151,5500           1\n5     1.0       1.0    male  48.0000   26,5500           0\n6     1.0       1.0  female  63.0000   77,9583           1\n7     1.0       0.0    male  39.0000    0,0000           0\n8     1.0       1.0  female  53.0000   51,4792           1\n9     1.0       0.0    male  71.0000   49,5042           0"
          },
          "metadata": {}
        }
      ]
    },
    {
      "metadata": {},
      "cell_type": "markdown",
      "source": "### Transforming the features: make them machine understandable"
    },
    {
      "metadata": {},
      "cell_type": "markdown",
      "source": "Now we have all features in place, we want to base our prediction on. Now we have to make that data machine understandable. Herefore we have to look at each column and transform them into the following three scale levels:\n\n- *Categorical/nominal*: There are different categories which can not be sorted: `withfamily`, `sex`, `survived`\n- *Categorical/ordinal*: There are different categories which can be sorted: `pclass`\n- *Numeric/cardinal*: The values can be sorted and they express real numbers: `age`, `fare`\n\n\n**Categorical/nominal features**\n\nTo encode the *Categorical/nominal* features we have to decribe them like `withfamily` is described:\n\n- `0` -> no family\n- `1` -> family on board\n\nApplying this to `survived` and `sex`:\n\n**survived**:\n- `0` -> died\n- `1` -> survived\n\n**sex**:\n- `0` -> male\n- `1` -> female\n"
    },
    {
      "metadata": {
        "trusted": true
      },
      "cell_type": "code",
      "source": "titanicData['survived'] = np.where(titanicData['survived'] == 0.0, 0, 1)\ntitanicData['sex'] = np.where(titanicData['sex'] == 'male', 0, 1)\ntitanicData.head(1)",
      "execution_count": 27,
      "outputs": [
        {
          "output_type": "execute_result",
          "execution_count": 27,
          "data": {
            "text/html": "<div>\n<style scoped>\n    .dataframe tbody tr th:only-of-type {\n        vertical-align: middle;\n    }\n\n    .dataframe tbody tr th {\n        vertical-align: top;\n    }\n\n    .dataframe thead th {\n        text-align: right;\n    }\n</style>\n<table border=\"1\" class=\"dataframe\">\n  <thead>\n    <tr style=\"text-align: right;\">\n      <th></th>\n      <th>pclass</th>\n      <th>survived</th>\n      <th>sex</th>\n      <th>age</th>\n      <th>fare</th>\n      <th>withfamily</th>\n    </tr>\n  </thead>\n  <tbody>\n    <tr>\n      <th>0</th>\n      <td>1.0</td>\n      <td>1</td>\n      <td>1</td>\n      <td>29.0</td>\n      <td>211,3375</td>\n      <td>0</td>\n    </tr>\n  </tbody>\n</table>\n</div>",
            "text/plain": "   pclass  survived  sex   age      fare  withfamily\n0     1.0         1    1  29.0  211,3375           0"
          },
          "metadata": {}
        }
      ]
    },
    {
      "metadata": {},
      "cell_type": "markdown",
      "source": "The same operation has to be done with the `pclass` feature:\n\n**pclass**\n- `1.0` -> First class \n- `2.0` -> Second class\n- `3.0` -> Thrid class"
    },
    {
      "metadata": {
        "trusted": true
      },
      "cell_type": "code",
      "source": "titanicData = titanicData.astype({'pclass': 'int32'})\ntitanicData.head(1)",
      "execution_count": 28,
      "outputs": [
        {
          "output_type": "execute_result",
          "execution_count": 28,
          "data": {
            "text/html": "<div>\n<style scoped>\n    .dataframe tbody tr th:only-of-type {\n        vertical-align: middle;\n    }\n\n    .dataframe tbody tr th {\n        vertical-align: top;\n    }\n\n    .dataframe thead th {\n        text-align: right;\n    }\n</style>\n<table border=\"1\" class=\"dataframe\">\n  <thead>\n    <tr style=\"text-align: right;\">\n      <th></th>\n      <th>pclass</th>\n      <th>survived</th>\n      <th>sex</th>\n      <th>age</th>\n      <th>fare</th>\n      <th>withfamily</th>\n    </tr>\n  </thead>\n  <tbody>\n    <tr>\n      <th>0</th>\n      <td>1</td>\n      <td>1</td>\n      <td>1</td>\n      <td>29.0</td>\n      <td>211,3375</td>\n      <td>0</td>\n    </tr>\n  </tbody>\n</table>\n</div>",
            "text/plain": "   pclass  survived  sex   age      fare  withfamily\n0       1         1    1  29.0  211,3375           0"
          },
          "metadata": {}
        }
      ]
    },
    {
      "metadata": {
        "trusted": true
      },
      "cell_type": "code",
      "source": "sns.barplot(x = \"pclass\", y = \"survived\", data = titanicData)\nplt.show()",
      "execution_count": 29,
      "outputs": [
        {
          "output_type": "display_data",
          "data": {
            "image/png": "[encoded data removed]",
            "text/plain": "<Figure size 432x288 with 1 Axes>"
          },
          "metadata": {
            "needs_background": "light"
          }
        }
      ]
    },
    {
      "metadata": {},
      "cell_type": "markdown",
      "source": "The feature `fare` desribes how much a passenger paid for his ticket. This is valuable information! We only have to get rid of the comma when representing the numeric values, in order to make it understandable for python how this feature needs to be understood:"
    },
    {
      "metadata": {
        "trusted": true
      },
      "cell_type": "code",
      "source": "titanicData.fare = titanicData.fare.apply(lambda x: x.replace(',','.'))\ntitanicData = titanicData.astype({'fare': 'float64'})\ntitanicData.head(1)",
      "execution_count": 30,
      "outputs": [
        {
          "output_type": "execute_result",
          "execution_count": 30,
          "data": {
            "text/html": "<div>\n<style scoped>\n    .dataframe tbody tr th:only-of-type {\n        vertical-align: middle;\n    }\n\n    .dataframe tbody tr th {\n        vertical-align: top;\n    }\n\n    .dataframe thead th {\n        text-align: right;\n    }\n</style>\n<table border=\"1\" class=\"dataframe\">\n  <thead>\n    <tr style=\"text-align: right;\">\n      <th></th>\n      <th>pclass</th>\n      <th>survived</th>\n      <th>sex</th>\n      <th>age</th>\n      <th>fare</th>\n      <th>withfamily</th>\n    </tr>\n  </thead>\n  <tbody>\n    <tr>\n      <th>0</th>\n      <td>1</td>\n      <td>1</td>\n      <td>1</td>\n      <td>29.0</td>\n      <td>211.3375</td>\n      <td>0</td>\n    </tr>\n  </tbody>\n</table>\n</div>",
            "text/plain": "   pclass  survived  sex   age      fare  withfamily\n0       1         1    1  29.0  211.3375           0"
          },
          "metadata": {}
        }
      ]
    },
    {
      "metadata": {},
      "cell_type": "markdown",
      "source": "## Lets start the machine learning magic!"
    },
    {
      "metadata": {},
      "cell_type": "markdown",
      "source": "Now that we have all features in place and machine understandable, we can start learning from our dataset. To evalute the performance of our titanic AI, we need some validation mechanism.\nTherefore we split our dataset into two datasets:\n\n- **Training set**: This is our input for our machine learning algorithm. From this dataset it will learn the function between our given features and the survival of a specific passenger\n- **Test set**: This set will be unknown to our machine learning algorithm. So the passengers in this set are unknown to the algorithm. We will use this data set to evaluate the performance of our trained model. It is normal to take between 10 or 20 percent of the original data set. This percentage is variable and depended on how much data there is in general\n\nAnother best practice is shuffling the dataset before we start learning from it"
    },
    {
      "metadata": {
        "trusted": true
      },
      "cell_type": "code",
      "source": "from sklearn.model_selection import train_test_split\ntitanicData = titanicData.sample(frac=1)\ntitanicTrainData, titanicTestData = train_test_split(titanicData, test_size=0.1)",
      "execution_count": 31,
      "outputs": []
    },
    {
      "metadata": {},
      "cell_type": "markdown",
      "source": "**Training set**"
    },
    {
      "metadata": {
        "trusted": true
      },
      "cell_type": "code",
      "source": "titanicTrainData.info()",
      "execution_count": 32,
      "outputs": [
        {
          "output_type": "stream",
          "text": "<class 'pandas.core.frame.DataFrame'>\nInt64Index: 1177 entries, 61 to 313\nData columns (total 6 columns):\npclass        1177 non-null int32\nsurvived      1177 non-null int64\nsex           1177 non-null int64\nage           1177 non-null float64\nfare          1177 non-null float64\nwithfamily    1177 non-null int64\ndtypes: float64(2), int32(1), int64(3)\nmemory usage: 59.8 KB\n",
          "name": "stdout"
        }
      ]
    },
    {
      "metadata": {},
      "cell_type": "markdown",
      "source": "**Test set**"
    },
    {
      "metadata": {
        "trusted": true
      },
      "cell_type": "code",
      "source": "titanicTestData.info()",
      "execution_count": 33,
      "outputs": [
        {
          "output_type": "stream",
          "text": "<class 'pandas.core.frame.DataFrame'>\nInt64Index: 131 entries, 1135 to 110\nData columns (total 6 columns):\npclass        131 non-null int32\nsurvived      131 non-null int64\nsex           131 non-null int64\nage           131 non-null float64\nfare          131 non-null float64\nwithfamily    131 non-null int64\ndtypes: float64(2), int32(1), int64(3)\nmemory usage: 6.7 KB\n",
          "name": "stdout"
        }
      ]
    },
    {
      "metadata": {},
      "cell_type": "markdown",
      "source": "Now, in order to learn from our data, we have to say what the input variables will be and what the corresponding value of the target variable for that is:"
    },
    {
      "metadata": {
        "trusted": true
      },
      "cell_type": "code",
      "source": "trainInput = titanicTrainData[['pclass', 'sex', 'age', 'fare', 'withfamily']]\ntargetVariable = titanicTrainData.survived\n",
      "execution_count": 34,
      "outputs": []
    },
    {
      "metadata": {},
      "cell_type": "markdown",
      "source": "### Now we will train a **random forest** for the survival prediction:"
    },
    {
      "metadata": {
        "trusted": true
      },
      "cell_type": "code",
      "source": "from sklearn.ensemble import RandomForestClassifier as RFC\nrfc = RFC(n_estimators=150)\nrfc.fit(trainInput, targetVariable)",
      "execution_count": 35,
      "outputs": [
        {
          "output_type": "execute_result",
          "execution_count": 35,
          "data": {
            "text/plain": "RandomForestClassifier(bootstrap=True, class_weight=None, criterion='gini',\n            max_depth=None, max_features='auto', max_leaf_nodes=None,\n            min_impurity_decrease=0.0, min_impurity_split=None,\n            min_samples_leaf=1, min_samples_split=2,\n            min_weight_fraction_leaf=0.0, n_estimators=150, n_jobs=None,\n            oob_score=False, random_state=None, verbose=0,\n            warm_start=False)"
          },
          "metadata": {}
        }
      ]
    },
    {
      "metadata": {},
      "cell_type": "markdown",
      "source": "Now we can predict if the passengers in our test data set survived the catastrophe:"
    },
    {
      "metadata": {
        "trusted": true
      },
      "cell_type": "code",
      "source": "prediction = rfc.predict(titanicTestData[['pclass', 'sex', 'age', 'fare', 'withfamily']])\nstr(prediction)",
      "execution_count": 36,
      "outputs": [
        {
          "output_type": "execute_result",
          "execution_count": 36,
          "data": {
            "text/plain": "'[0 0 1 1 0 0 0 0 1 1 0 1 0 1 0 0 0 1 0 0 1 1 1 0 0 1 0 0 1 0 1 0 0 1 1 0 1\\n 1 0 1 1 0 1 1 0 0 0 1 0 0 0 0 0 0 0 0 1 0 0 0 0 0 0 0 0 1 0 0 1 0 0 0 0 1\\n 0 0 0 0 0 1 1 1 0 1 0 1 1 0 1 0 0 1 1 1 1 1 0 0 0 1 1 0 0 1 0 1 0 1 0 0 0\\n 0 0 0 1 0 1 0 0 0 1 0 0 1 0 0 0 0 0 0 0]'"
          },
          "metadata": {}
        }
      ]
    },
    {
      "metadata": {
        "trusted": true
      },
      "cell_type": "code",
      "source": "from sklearn.metrics import accuracy_score\naccuracy_score(titanicTestData.survived, prediction)",
      "execution_count": 37,
      "outputs": [
        {
          "output_type": "execute_result",
          "execution_count": 37,
          "data": {
            "text/plain": "0.8091603053435115"
          },
          "metadata": {}
        }
      ]
    },
    {
      "metadata": {},
      "cell_type": "markdown",
      "source": "We can ask the trained tree how import each feature is we provided for the training:"
    },
    {
      "metadata": {
        "trusted": true
      },
      "cell_type": "code",
      "source": "str(rfc.feature_importances_)",
      "execution_count": 38,
      "outputs": [
        {
          "output_type": "execute_result",
          "execution_count": 38,
          "data": {
            "text/plain": "'[0.09455188 0.25314635 0.28676966 0.34564737 0.01988474]'"
          },
          "metadata": {}
        }
      ]
    },
    {
      "metadata": {},
      "cell_type": "markdown",
      "source": "### Validating our prediction with a **logistic regression** for the survival prediction:"
    },
    {
      "metadata": {
        "trusted": true
      },
      "cell_type": "code",
      "source": "from sklearn.linear_model import LogisticRegression\nlogmodel = LogisticRegression()\nlogmodel.fit(trainInput, targetVariable)\n",
      "execution_count": 39,
      "outputs": [
        {
          "output_type": "stream",
          "text": "/home/nbuser/anaconda3_501/lib/python3.6/site-packages/sklearn/linear_model/logistic.py:433: FutureWarning: Default solver will be changed to 'lbfgs' in 0.22. Specify a solver to silence this warning.\n  FutureWarning)\n",
          "name": "stderr"
        },
        {
          "output_type": "execute_result",
          "execution_count": 39,
          "data": {
            "text/plain": "LogisticRegression(C=1.0, class_weight=None, dual=False, fit_intercept=True,\n          intercept_scaling=1, max_iter=100, multi_class='warn',\n          n_jobs=None, penalty='l2', random_state=None, solver='warn',\n          tol=0.0001, verbose=0, warm_start=False)"
          },
          "metadata": {}
        }
      ]
    },
    {
      "metadata": {
        "trusted": true
      },
      "cell_type": "code",
      "source": "prediction=logmodel.predict(titanicTestData[['pclass', 'sex', 'age', 'fare', 'withfamily']])\naccuracy_score(titanicTestData.survived, prediction)                                        ",
      "execution_count": 40,
      "outputs": [
        {
          "output_type": "execute_result",
          "execution_count": 40,
          "data": {
            "text/plain": "0.8244274809160306"
          },
          "metadata": {}
        }
      ]
    },
    {
      "metadata": {},
      "cell_type": "markdown",
      "source": "### Predicting Probabilities with Naive Bayes"
    },
    {
      "metadata": {
        "trusted": true
      },
      "cell_type": "code",
      "source": "from sklearn.naive_bayes import GaussianNB\nnaiveBayes = GaussianNB()\nnaiveBayes.fit(trainInput, targetVariable)\nprint(naiveBayes.predict_proba(titanicTestData[['pclass', 'sex', 'age', 'fare', 'withfamily']])[0:10])",
      "execution_count": 53,
      "outputs": [
        {
          "output_type": "stream",
          "text": "[[0.97244948 0.02755052]\n [0.29722203 0.70277797]\n [0.1875094  0.8124906 ]\n [0.01093639 0.98906361]\n [0.5238806  0.4761194 ]\n [0.55107779 0.44892221]\n [0.93560315 0.06439685]\n [0.9727845  0.0272155 ]\n [0.19549718 0.80450282]\n [0.48623811 0.51376189]]\n",
          "name": "stdout"
        }
      ]
    }
  ],
  "metadata": {
    "kernelspec": {
      "name": "python36",
      "display_name": "Python 3.6",
      "language": "python"
    },
    "language_info": {
      "mimetype": "text/x-python",
      "nbconvert_exporter": "python",
      "name": "python",
      "pygments_lexer": "ipython3",
      "version": "3.6.6",
      "file_extension": ".py",
      "codemirror_mode": {
        "version": 3,
        "name": "ipython"
      }
    }
  },
  "nbformat": 4,
  "nbformat_minor": 2
}